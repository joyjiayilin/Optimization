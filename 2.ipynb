{
 "cells": [
  {
   "cell_type": "markdown",
   "metadata": {},
   "source": [
    "## MGMTMSA 403 Homework 2: Portfolio Optimization\n"
   ]
  },
  {
   "cell_type": "markdown",
   "metadata": {},
   "source": [
    "## Pre-processing step: Estimate expected returns and covariance"
   ]
  },
  {
   "cell_type": "code",
   "execution_count": 1,
   "metadata": {},
   "outputs": [],
   "source": [
    "# Import gurobi and numpy\n",
    "from gurobipy import *\n",
    "import numpy as np\n",
    "from numpy import genfromtxt\n",
    "import csv\n",
    "import pandas as pd\n",
    "\n",
    "## Get index of 4 tickers\n",
    "tick4 = [\"MSFT\",\"GS\",\"PG\",\"SCHP\"];\n",
    "\n",
    "# Get variable names\n",
    "with open('Prices.csv') as csvFile:\n",
    "    reader = csv.reader(csvFile)\n",
    "    tickers = next(reader) ## stores the tickers of all 390 stocks\n",
    "\n",
    "tickind =[];\n",
    "for t in tick4:\n",
    "    tickind.append(tickers.index(t)) ## retrieve index that corresponds to each ticker\n",
    "\n",
    "# Load data\n",
    "prices = genfromtxt('Prices.csv', delimiter=',',skip_header = 1)\n",
    "\n",
    "# get dimensions of data\n",
    "d = prices.shape[0]\n",
    "n = prices.shape[1]\n",
    "\n",
    "# calculate monthly returns of each stock\n",
    "returns = np.zeros((d-1,n))\n",
    "for stock in range(n):\n",
    "    for month in range(d-1):\n",
    "        returns[month,stock] = prices[month+1,stock]/prices[month,stock]-1\n",
    "        \n",
    "# Store average return (parameter r_i in portfolio optimization model)       \n",
    "avg_return = np.zeros(n)\n",
    "avg_return = np.mean(returns,axis=0)\n",
    "\n",
    "# Store covariance matrix (parameter C_ij in portfolio optimization model)\n",
    "C = np.zeros((n,n))\n",
    "C = np.cov(np.transpose(returns))\n"
   ]
  },
  {
   "cell_type": "markdown",
   "metadata": {},
   "source": [
    "# Question 1"
   ]
  },
  {
   "cell_type": "markdown",
   "metadata": {},
   "source": [
    "## a)"
   ]
  },
  {
   "cell_type": "markdown",
   "metadata": {},
   "source": [
    "* **Parameters**\n",
    "\n",
    "\\begin{align*}\n",
    "i &: \\text{assets } \\\\\n",
    "j &: \\text{assets excluding i } \\\\\n",
    "r_i &: \\text{expected return of asset } i \\\\\n",
    "C_{ij} &: \\text{covariance matrix of } i \\text{ and } j \\\\\n",
    "\\end{align*}\n",
    "\n",
    "* **Decision Variables**\n",
    "\n",
    "\\begin{align*}\n",
    "ω_i &: \\text{weight on asset } i \\\\\n",
    "\\end{align*}\n",
    "\n",
    "* **Objective Function**\n",
    "\n",
    "\\begin{equation*}\n",
    "\\sum_{i=1}^{4}\\sum_{j=1}^{4} ω_i ω_j C_{ij}\n",
    "\\end{equation*}\n",
    "\n",
    "* **Constraints**\n",
    "\n",
    "> Expected return should be at least 0.5%\n",
    "\n",
    "\\begin{equation*}\n",
    "\\sum_{i=1}^{4} ω_{i} r_{i} \\geq 0.5%\n",
    "\\end{equation*}\n",
    "\n",
    "> Weights add up to 1\n",
    "\n",
    "\\begin{equation*}\n",
    "\\sum_{i=1}^{4} ω_{i} = 1\n",
    "\\end{equation*}\n",
    "\n",
    "> Non-negativity\n",
    "\n",
    "\\begin{equation*}\n",
    "ω_{i} \\geq 0, \\quad i = 1,...,390\n",
    "\\end{equation*}"
   ]
  },
  {
   "cell_type": "code",
   "execution_count": 54,
   "metadata": {},
   "outputs": [
    {
     "name": "stdout",
     "output_type": "stream",
     "text": [
      "Gurobi Optimizer version 11.0.0 build v11.0.0rc2 (mac64[x86] - Darwin 23.2.0 23C71)\n",
      "\n",
      "CPU model: Intel(R) Core(TM) i5-1038NG7 CPU @ 2.00GHz\n",
      "Thread count: 4 physical cores, 8 logical processors, using up to 8 threads\n",
      "\n",
      "Optimize a model with 6 rows, 390 columns and 12 nonzeros\n",
      "Model fingerprint: 0x24944e33\n",
      "Model has 10 quadratic objective terms\n",
      "Coefficient statistics:\n",
      "  Matrix range     [2e-04, 1e+00]\n",
      "  Objective range  [0e+00, 0e+00]\n",
      "  QObjective range [5e-05, 7e-03]\n",
      "  Bounds range     [0e+00, 0e+00]\n",
      "  RHS range        [5e-03, 1e+00]\n",
      "Presolve removed 4 rows and 386 columns\n",
      "Presolve time: 0.01s\n",
      "Presolved: 2 rows, 4 columns, 8 nonzeros\n",
      "Presolved model has 10 quadratic objective terms\n",
      "Ordering time: 0.00s\n",
      "\n",
      "Barrier statistics:\n",
      " Free vars  : 3\n",
      " AA' NZ     : 1.000e+01\n",
      " Factor NZ  : 1.500e+01\n",
      " Factor Ops : 5.500e+01 (less than 1 second per iteration)\n",
      " Threads    : 1\n",
      "\n",
      "                  Objective                Residual\n",
      "Iter       Primal          Dual         Primal    Dual     Compl     Time\n",
      "   0   7.75648617e+03 -7.75648617e+03  3.50e+03 1.57e-06  1.00e+06     0s\n",
      "   1   2.51636603e+02 -2.59893243e+02  2.31e+02 1.04e-07  6.92e+04     0s\n",
      "   2   2.61043362e-03 -1.01272125e+01  6.64e-01 2.99e-10  3.29e+02     0s\n",
      "   3   1.01144644e-03 -3.53587425e+00  6.64e-07 2.98e-16  4.53e+01     0s\n",
      "   4   1.00956586e-03 -4.19494040e-03  3.14e-10 0.00e+00  6.66e-02     0s\n",
      "   5   4.34187327e-04 -3.61737038e-05  6.69e-12 0.00e+00  6.02e-03     0s\n",
      "   6   2.14699172e-04  1.27154313e-04  1.11e-16 6.94e-18  1.12e-03     0s\n",
      "   7   1.80089010e-04  1.72718190e-04  1.67e-16 6.94e-18  9.43e-05     0s\n",
      "   8   1.77537641e-04  1.76950183e-04  7.66e-15 1.39e-17  7.52e-06     0s\n",
      "   9   1.77493374e-04  1.77486115e-04  7.77e-15 1.06e-18  9.29e-08     0s\n",
      "  10   1.77493264e-04  1.77493257e-04  5.01e-14 2.08e-17  9.32e-11     0s\n",
      "\n",
      "Barrier solved model in 10 iterations and 0.05 seconds (0.00 work units)\n",
      "Optimal objective 1.77493264e-04\n",
      "\n"
     ]
    }
   ],
   "source": [
    "from gurobipy import *\n",
    "\n",
    "# Initialize the model\n",
    "mod1 = Model()\n",
    "\n",
    "# Decision variables\n",
    "w1 = mod1.addVars(390)\n",
    "\n",
    "# Objective function: Minimize total under-allocation percentage\n",
    "mod1.setObjective(sum(w1[i] * w1[j] * C[i][j] for i in tickind for j in tickind), GRB.MINIMIZE)\n",
    "\n",
    "# Constraints\n",
    "mod1.addConstr(sum(w1[i] * avg_return[i] for i in tickind) >= 0.005)\n",
    "\n",
    "mod1.addConstr(sum(w1[i] for i in tickind) == 1)\n",
    "\n",
    "for i in tickind:\n",
    "    mod1.addConstr(w1[i] >= 0)\n",
    "\n",
    "\n",
    "# Solve the model\n",
    "mod1.optimize()"
   ]
  },
  {
   "cell_type": "code",
   "execution_count": 55,
   "metadata": {},
   "outputs": [
    {
     "name": "stdout",
     "output_type": "stream",
     "text": [
      "  Ticker  Weight\n",
      "0   MSFT  0.2371\n",
      "1     GS  0.0259\n",
      "2     PG  0.0000\n",
      "3   SCHP  0.7370\n",
      "\n",
      "Optimal risk: 0.00017749326422824256\n",
      "Solver time: 0.049616098403930664 seconds\n"
     ]
    }
   ],
   "source": [
    "# Display results\n",
    "if mod1.status == GRB.OPTIMAL:\n",
    "    ws1 = [round(w1[i].x, 4) for i in tickind]\n",
    "    df = pd.DataFrame({'Ticker': tick4, 'Weight': ws1})\n",
    "    print(df)\n",
    "\n",
    "print('\\nOptimal risk:', mod1.objval)\n",
    "print('Solver time:', mod1.Runtime, 'seconds')"
   ]
  },
  {
   "cell_type": "markdown",
   "metadata": {},
   "source": [
    "## b) "
   ]
  },
  {
   "cell_type": "code",
   "execution_count": 56,
   "metadata": {},
   "outputs": [
    {
     "name": "stdout",
     "output_type": "stream",
     "text": [
      "Gurobi Optimizer version 11.0.0 build v11.0.0rc2 (mac64[x86] - Darwin 23.2.0 23C71)\n",
      "\n",
      "CPU model: Intel(R) Core(TM) i5-1038NG7 CPU @ 2.00GHz\n",
      "Thread count: 4 physical cores, 8 logical processors, using up to 8 threads\n",
      "\n",
      "Optimize a model with 6 rows, 390 columns and 784 nonzeros\n",
      "Model fingerprint: 0xb5ac7cab\n",
      "Model has 76245 quadratic objective terms\n",
      "Coefficient statistics:\n",
      "  Matrix range     [1e-06, 1e+00]\n",
      "  Objective range  [0e+00, 0e+00]\n",
      "  QObjective range [2e-07, 8e-02]\n",
      "  Bounds range     [0e+00, 0e+00]\n",
      "  RHS range        [5e-03, 1e+00]\n",
      "Presolve removed 4 rows and 0 columns\n",
      "Presolve time: 0.03s\n",
      "Presolved: 2 rows, 390 columns, 780 nonzeros\n",
      "Presolved model has 76245 quadratic objective terms\n",
      "Ordering time: 0.00s\n",
      "\n",
      "Barrier statistics:\n",
      " Free vars  : 59\n",
      " AA' NZ     : 1.830e+03\n",
      " Factor NZ  : 1.891e+03\n",
      " Factor Ops : 7.753e+04 (less than 1 second per iteration)\n",
      " Threads    : 4\n",
      "\n",
      "                  Objective                Residual\n",
      "Iter       Primal          Dual         Primal    Dual     Compl     Time\n",
      "   0   1.10520633e-17 -1.10520633e-17  3.90e+05 1.86e-08  1.00e+06     0s\n",
      "   1   1.32403095e+02 -1.40151246e+02  1.14e+04 5.42e-10  2.92e+04     0s\n",
      "   2   1.53493902e+00 -9.57482645e+00  1.02e+02 4.86e-12  2.67e+02     0s\n",
      "   3   1.17587702e-03 -7.92081818e+00  1.02e-04 7.25e-16  2.59e+00     0s\n",
      "   4   1.17509605e-03 -1.01300882e-02  4.36e-08 1.39e-17  3.70e-03     0s\n",
      "   5   8.22186010e-04 -1.13464664e-03  4.77e-09 2.78e-17  6.41e-04     0s\n",
      "   6   3.78013352e-04 -5.97431608e-04  4.44e-15 1.11e-16  3.19e-04     0s\n",
      "   7   2.05319383e-04 -1.66218904e-04  6.66e-16 8.33e-17  1.22e-04     0s\n",
      "   8   9.53707757e-05 -4.26667932e-05  9.99e-16 5.55e-17  4.52e-05     0s\n",
      "   9   6.93295928e-05  3.06840100e-06  2.22e-16 5.55e-17  2.17e-05     0s\n",
      "  10   4.16952119e-05  2.32922123e-05  1.33e-15 2.08e-17  6.02e-06     0s\n",
      "  11   3.39225828e-05  2.74051911e-05  1.33e-15 3.47e-17  2.13e-06     0s\n",
      "  12   3.04655599e-05  2.85032903e-05  7.33e-15 1.73e-17  6.42e-07     0s\n",
      "  13   2.89580888e-05  2.87642150e-05  1.38e-14 2.78e-17  6.35e-08     0s\n",
      "  14   2.87917525e-05  2.87842956e-05  1.67e-14 2.78e-17  2.44e-09     0s\n",
      "\n",
      "Barrier solved model in 14 iterations and 0.09 seconds (0.01 work units)\n",
      "Optimal objective 2.87917525e-05\n",
      "\n"
     ]
    }
   ],
   "source": [
    "from gurobipy import *\n",
    "\n",
    "tickind_all = []\n",
    "for t in tickers:\n",
    "    tickind_all.append(tickers.index(t))\n",
    "tickind_all\n",
    "\n",
    "# Initialize the model\n",
    "mod2 = Model()\n",
    "\n",
    "# Decision variables\n",
    "w2 = mod2.addVars(390)\n",
    "\n",
    "# Objective function: Minimize total under-allocation percentage\n",
    "mod2.setObjective(sum(w2[i] * w2[j] * C[i][j] for i in tickind_all for j in tickind_all), GRB.MINIMIZE)\n",
    "\n",
    "# Constraints\n",
    "\n",
    "mod2.addConstr(sum(w2[i] * avg_return[i] for i in tickind_all) >= 0.005)\n",
    "\n",
    "mod2.addConstr(sum(w2[i] for i in tickind_all) == 1)\n",
    "\n",
    "for i in tickind:\n",
    "    mod2.addConstr(w2[i] >= 0)\n",
    "\n",
    "\n",
    "# Solve the model\n",
    "mod2.optimize()"
   ]
  },
  {
   "cell_type": "code",
   "execution_count": 57,
   "metadata": {},
   "outputs": [
    {
     "name": "stdout",
     "output_type": "stream",
     "text": [
      "\n",
      "Optimal risk: 2.8791752514001842e-05\n",
      "Solver time: 0.09494400024414062 seconds\n"
     ]
    }
   ],
   "source": [
    "# Display results\n",
    "print('\\nOptimal risk:', mod2.objval)\n",
    "print('Solver time:', mod2.Runtime, 'seconds')"
   ]
  },
  {
   "cell_type": "markdown",
   "metadata": {},
   "source": [
    "## c)"
   ]
  },
  {
   "cell_type": "markdown",
   "metadata": {},
   "source": [
    "* **Parameters**\n",
    "\n",
    "\\begin{align*}\n",
    "i &: \\text{assets } \\\\\n",
    "j &: \\text{assets excluding i } \\\\\n",
    "r_i &: \\text{expected return of asset } i \\\\\n",
    "C_{ij} &: \\text{covariance matrix of } i \\text{ and } j \\\\\n",
    "\\end{align*}\n",
    "\n",
    "* **Decision Variables**\n",
    "\n",
    "\\begin{align*}\n",
    "ω_i &: \\text{weight on asset } i \\\\\n",
    "s_i &: \\text{1 if asset } i \\text{ is selected,} \\quad \\text{0 otherwise} \\\\\n",
    "\\end{align*}\n",
    "\n",
    "* **Objective Function**\n",
    "\n",
    "\\begin{equation*}\n",
    "\\sum_{i=1}^{390}\\sum_{j=1}^{390} ω_i ω_j C_{ij}\n",
    "\\end{equation*}\n",
    "\n",
    "* **Constraints**\n",
    "\n",
    "> Selects at most 4 of the 390 stocks\n",
    "\n",
    "\\begin{equation*}\n",
    "\\sum_{i=1}^{390} s_i \\leq 4, \\quad i = 1,...,390\n",
    "\\end{equation*}\n",
    "\n",
    "> If i is selected, then weight of i is smaller than 1; If i is not selected, then weight of i is 0\n",
    "\n",
    "\\begin{equation*}\n",
    "ω_{i} \\leq s_{i}, \\quad i = 1,...,390\n",
    "\\end{equation*}\n",
    "\n",
    "> Expected return should be at least 0.5%\n",
    "\n",
    "\\begin{equation*}\n",
    "\\sum_{i=1}^{4} ω_{i} r_{i} \\geq 0.5%\n",
    "\\end{equation*}\n",
    "\n",
    "> Weights add up to 1\n",
    "\n",
    "\\begin{equation*}\n",
    "\\sum_{i=1}^{4} ω_{i} = 1\n",
    "\\end{equation*}\n",
    "\n",
    "> Non-negativity\n",
    "\n",
    "\\begin{equation*}\n",
    "ω_{i} \\geq 0, \\quad i = 1,...,390\n",
    "\\end{equation*}"
   ]
  },
  {
   "cell_type": "code",
   "execution_count": 80,
   "metadata": {},
   "outputs": [
    {
     "name": "stdout",
     "output_type": "stream",
     "text": [
      "Gurobi Optimizer version 11.0.0 build v11.0.0rc2 (mac64[x86] - Darwin 23.2.0 23C71)\n",
      "\n",
      "CPU model: Intel(R) Core(TM) i5-1038NG7 CPU @ 2.00GHz\n",
      "Thread count: 4 physical cores, 8 logical processors, using up to 8 threads\n",
      "\n",
      "Optimize a model with 783 rows, 780 columns and 2340 nonzeros\n",
      "Model fingerprint: 0x2525555f\n",
      "Model has 76245 quadratic objective terms\n",
      "Variable types: 390 continuous, 390 integer (390 binary)\n",
      "Coefficient statistics:\n",
      "  Matrix range     [1e-06, 1e+00]\n",
      "  Objective range  [0e+00, 0e+00]\n",
      "  QObjective range [2e-07, 8e-02]\n",
      "  Bounds range     [1e+00, 1e+00]\n",
      "  RHS range        [5e-03, 4e+00]\n",
      "Found heuristic solution: objective 0.0136011\n",
      "Presolve removed 390 rows and 0 columns\n",
      "Presolve time: 0.04s\n",
      "Presolved: 393 rows, 780 columns, 1950 nonzeros\n",
      "Presolved model has 76245 quadratic objective terms\n",
      "Variable types: 390 continuous, 390 integer (390 binary)\n",
      "\n",
      "Root relaxation: objective 2.878501e-05, 129 iterations, 0.01 seconds (0.01 work units)\n",
      "\n",
      "    Nodes    |    Current Node    |     Objective Bounds      |     Work\n",
      " Expl Unexpl |  Obj  Depth IntInf | Incumbent    BestBd   Gap | It/Node Time\n",
      "\n",
      "     0     0    0.00003    0   21    0.01360    0.00003   100%     -    0s\n",
      "H    0     0                       0.0001258    0.00003  77.1%     -    0s\n",
      "H    0     0                       0.0000723    0.00003  60.2%     -    0s\n",
      "     0     0    0.00003    0   21    0.00007    0.00003  60.2%     -    0s\n",
      "     0     0    0.00003    0   21    0.00007    0.00003  58.1%     -    0s\n",
      "     0     0    0.00003    0   21    0.00007    0.00003  58.1%     -    0s\n",
      "     0     2    0.00003    0   21    0.00007    0.00003  58.1%     -    0s\n",
      "H  255    93                       0.0000707    0.00003  51.6%  98.2    1s\n",
      "H 1268   550                       0.0000676    0.00004  45.4%  63.7    2s\n",
      "H 1557   621                       0.0000675    0.00004  43.4%  63.2    2s\n",
      "  2575  1075    0.00006   50   26    0.00007    0.00004  43.3%  49.3    5s\n",
      "  7636  2282     cutoff   40         0.00007    0.00005  30.7%  58.5   10s\n",
      " 14469  2870    0.00006   31   26    0.00007    0.00006  17.4%  59.1   15s\n",
      " 18813  2244     cutoff   31         0.00007    0.00006  10.5%  65.8   20s\n",
      " 22541  1217     cutoff   33         0.00007    0.00006  6.10%  80.0   25s\n",
      "\n",
      "Explored 26076 nodes (2298109 simplex iterations) in 29.40 seconds (36.19 work units)\n",
      "Thread count was 8 (of 8 available processors)\n",
      "\n",
      "Solution count 6: 6.75347e-05 6.75857e-05 7.06604e-05 ... 0.0136011\n",
      "\n",
      "Optimal solution found (tolerance 1.00e-04)\n",
      "Best objective 6.753470760728e-05, best bound 6.753470760728e-05, gap 0.0000%\n"
     ]
    }
   ],
   "source": [
    "from gurobipy import *\n",
    "\n",
    "tickind_all = []\n",
    "for t in tickers:\n",
    "    tickind_all.append(tickers.index(t))\n",
    "tickind_all\n",
    "\n",
    "# Initialize the model\n",
    "mod3 = Model()\n",
    "\n",
    "# Decision variables\n",
    "w3 = mod3.addVars(390)\n",
    "s = mod3.addVars(390, vtype=GRB.BINARY, name=\"x\")\n",
    "\n",
    "# Objective function: Minimize total under-allocation percentage\n",
    "mod3.setObjective(sum(w3[i] * w3[j] * C[i][j] for i in tickind_all for j in tickind_all), GRB.MINIMIZE)\n",
    "\n",
    "# Constraints\n",
    "\n",
    "mod3.addConstr(sum(s[i] for i in tickind_all) <=4)\n",
    "\n",
    "mod3.addConstr(sum(w3[i] * avg_return[i] for i in tickind_all) >= 0.005)\n",
    "\n",
    "mod3.addConstr(sum(w3[i] for i in tickind_all) == 1)\n",
    "\n",
    "for i in tickind_all:\n",
    "    mod3.addConstr(w3[i] <= s[i])\n",
    "\n",
    "for i in tickind_all:\n",
    "    mod3.addConstr(w3[i] >= 0)\n",
    "\n",
    "\n",
    "# Solve the model\n",
    "mod3.optimize()"
   ]
  },
  {
   "cell_type": "code",
   "execution_count": 81,
   "metadata": {},
   "outputs": [
    {
     "name": "stdout",
     "output_type": "stream",
     "text": [
      "Ticker\t\tWeight\n",
      "CME \t\t 0.1264114192949047\n",
      "LLY \t\t 0.07547619035437458\n",
      "NVDA \t\t 0.043753706728431804\n",
      "BND \t\t 0.754358683622289\n",
      "\n",
      "Solver time: 29.408276081085205\n",
      "Optimal value: 6.753470760728118e-05\n"
     ]
    }
   ],
   "source": [
    "# Display results\n",
    "if mod3.status == GRB.OPTIMAL:\n",
    "    print(\"Ticker\\t\\tWeight\")\n",
    "    for i in range(n):\n",
    "        if s[i].x:\n",
    "            print(tickers[i], '\\t\\t', w3[i].x)\n",
    "\n",
    "print('\\nSolver time:', mod3.Runtime)\n",
    "print('Optimal value:', mod3.objval)"
   ]
  },
  {
   "cell_type": "markdown",
   "metadata": {},
   "source": [
    "# Question 2"
   ]
  },
  {
   "cell_type": "markdown",
   "metadata": {},
   "source": [
    "## a)"
   ]
  },
  {
   "cell_type": "markdown",
   "metadata": {},
   "source": [
    "The optimal risk in Model 1 is higher than Model 2. </br>\n",
    "\n",
    "This is because Model 2 has access to a broader range of stock options, which helps with the diversification of stock assets."
   ]
  },
  {
   "cell_type": "markdown",
   "metadata": {},
   "source": [
    "## b)"
   ]
  },
  {
   "cell_type": "markdown",
   "metadata": {},
   "source": [
    "The optimal risk in Model 2 is lower than Model 3. </br>\n",
    "\n",
    "This is because Model 2 has access to a broader range of stock options, which helps with the diversification of stock assets. </br>\n",
    "Also, risk is subject to a constraint on expected return. The more constraints there are, the higher the risk is. Model 3 has two more constraints and thus a higher risk than Model 2. </br>"
   ]
  },
  {
   "cell_type": "markdown",
   "metadata": {},
   "source": [
    "# Question 3"
   ]
  },
  {
   "cell_type": "markdown",
   "metadata": {},
   "source": [
    "## a)"
   ]
  },
  {
   "cell_type": "code",
   "execution_count": 82,
   "metadata": {},
   "outputs": [
    {
     "name": "stdout",
     "output_type": "stream",
     "text": [
      "Set parameter TimeLimit to value 3\n",
      "Gurobi Optimizer version 11.0.0 build v11.0.0rc2 (mac64[x86] - Darwin 23.2.0 23C71)\n",
      "\n",
      "CPU model: Intel(R) Core(TM) i5-1038NG7 CPU @ 2.00GHz\n",
      "Thread count: 4 physical cores, 8 logical processors, using up to 8 threads\n",
      "\n",
      "Optimize a model with 783 rows, 780 columns and 2340 nonzeros\n",
      "Model fingerprint: 0x2525555f\n",
      "Model has 76245 quadratic objective terms\n",
      "Variable types: 390 continuous, 390 integer (390 binary)\n",
      "Coefficient statistics:\n",
      "  Matrix range     [1e-06, 1e+00]\n",
      "  Objective range  [0e+00, 0e+00]\n",
      "  QObjective range [2e-07, 8e-02]\n",
      "  Bounds range     [1e+00, 1e+00]\n",
      "  RHS range        [5e-03, 4e+00]\n",
      "Found heuristic solution: objective 0.0136011\n",
      "Presolve removed 390 rows and 0 columns\n",
      "Presolve time: 0.03s\n",
      "Presolved: 393 rows, 780 columns, 1950 nonzeros\n",
      "Presolved model has 76245 quadratic objective terms\n",
      "Variable types: 390 continuous, 390 integer (390 binary)\n",
      "\n",
      "Root relaxation: objective 2.878501e-05, 129 iterations, 0.01 seconds (0.01 work units)\n",
      "\n",
      "    Nodes    |    Current Node    |     Objective Bounds      |     Work\n",
      " Expl Unexpl |  Obj  Depth IntInf | Incumbent    BestBd   Gap | It/Node Time\n",
      "\n",
      "     0     0    0.00003    0   21    0.01360    0.00003   100%     -    0s\n",
      "H    0     0                       0.0001258    0.00003  77.1%     -    0s\n",
      "H    0     0                       0.0000723    0.00003  60.2%     -    0s\n",
      "     0     0    0.00003    0   21    0.00007    0.00003  60.2%     -    0s\n",
      "     0     0    0.00003    0   21    0.00007    0.00003  58.1%     -    0s\n",
      "     0     0    0.00003    0   21    0.00007    0.00003  58.1%     -    0s\n",
      "     0     2    0.00003    0   21    0.00007    0.00003  58.1%     -    0s\n",
      "H  255    93                       0.0000707    0.00003  51.6%  98.2    1s\n",
      "H 1268   550                       0.0000676    0.00004  45.4%  63.7    2s\n",
      "\n",
      "Cutting planes:\n",
      "  Cover: 1\n",
      "  Implied bound: 10\n",
      "  MIR: 1\n",
      "  Flow cover: 4\n",
      "\n",
      "Explored 1536 nodes (97489 simplex iterations) in 3.07 seconds (3.53 work units)\n",
      "Thread count was 8 (of 8 available processors)\n",
      "\n",
      "Solution count 5: 6.75857e-05 7.06604e-05 7.23026e-05 ... 0.0136011\n",
      "\n",
      "Time limit reached\n",
      "Best objective 6.758574167459e-05, best bound 3.825231224728e-05, gap 43.4018%\n"
     ]
    }
   ],
   "source": [
    "from gurobipy import *\n",
    "\n",
    "tickind_all = []\n",
    "for t in tickers:\n",
    "    tickind_all.append(tickers.index(t))\n",
    "tickind_all\n",
    "\n",
    "# Initialize the model\n",
    "mod3a = Model()\n",
    "\n",
    "# Decision variables\n",
    "w3a = mod3a.addVars(390)\n",
    "s3a = mod3a.addVars(390, vtype=GRB.BINARY, name=\"x\")\n",
    "\n",
    "# Objective function: Minimize total under-allocation percentage\n",
    "mod3a.setObjective(sum(w3a[i] * w3a[j] * C[i][j] for i in tickind_all for j in tickind_all), GRB.MINIMIZE)\n",
    "\n",
    "# Constraints\n",
    "\n",
    "mod3a.addConstr(sum(s3a[i] for i in tickind_all) <=4)\n",
    "\n",
    "mod3a.addConstr(sum(w3a[i] * avg_return[i] for i in tickind_all) >= 0.005)\n",
    "\n",
    "mod3a.addConstr(sum(w3a[i] for i in tickind_all) == 1)\n",
    "\n",
    "for i in tickind_all:\n",
    "    mod3a.addConstr(w3a[i] <= s3a[i])\n",
    "\n",
    "for i in tickind_all:\n",
    "    mod3a.addConstr(w3a[i] >= 0)\n",
    "\n",
    "    \n",
    "# Terminate after 3 seconds\n",
    "mod3a.Params.TimeLimit = 3.0\n",
    "\n",
    "# Solve the model\n",
    "mod3a.optimize()"
   ]
  },
  {
   "cell_type": "code",
   "execution_count": 83,
   "metadata": {},
   "outputs": [
    {
     "name": "stdout",
     "output_type": "stream",
     "text": [
      "Optimal value of terminated model: 6.758574167459062e-05\n",
      "Optimal value of original model: 6.753470760728118e-05\n"
     ]
    }
   ],
   "source": [
    "print('Optimal value of terminated model:', mod3a.objval)\n",
    "print('Optimal value of original model:', mod3.objval)"
   ]
  },
  {
   "cell_type": "markdown",
   "metadata": {},
   "source": [
    "The objective function value at termination is the same as the optimal value obtained in question 1c."
   ]
  },
  {
   "cell_type": "markdown",
   "metadata": {},
   "source": [
    "## b)"
   ]
  },
  {
   "cell_type": "code",
   "execution_count": 84,
   "metadata": {},
   "outputs": [
    {
     "name": "stdout",
     "output_type": "stream",
     "text": [
      "Set parameter MIPGap to value 0.1\n",
      "Gurobi Optimizer version 11.0.0 build v11.0.0rc2 (mac64[x86] - Darwin 23.2.0 23C71)\n",
      "\n",
      "CPU model: Intel(R) Core(TM) i5-1038NG7 CPU @ 2.00GHz\n",
      "Thread count: 4 physical cores, 8 logical processors, using up to 8 threads\n",
      "\n",
      "Optimize a model with 783 rows, 780 columns and 2340 nonzeros\n",
      "Model fingerprint: 0x2525555f\n",
      "Model has 76245 quadratic objective terms\n",
      "Variable types: 390 continuous, 390 integer (390 binary)\n",
      "Coefficient statistics:\n",
      "  Matrix range     [1e-06, 1e+00]\n",
      "  Objective range  [0e+00, 0e+00]\n",
      "  QObjective range [2e-07, 8e-02]\n",
      "  Bounds range     [1e+00, 1e+00]\n",
      "  RHS range        [5e-03, 4e+00]\n",
      "Found heuristic solution: objective 0.0136011\n",
      "Presolve removed 390 rows and 0 columns\n",
      "Presolve time: 0.03s\n",
      "Presolved: 393 rows, 780 columns, 1950 nonzeros\n",
      "Presolved model has 76245 quadratic objective terms\n",
      "Variable types: 390 continuous, 390 integer (390 binary)\n",
      "\n",
      "Root relaxation: objective 2.878501e-05, 129 iterations, 0.01 seconds (0.01 work units)\n",
      "\n",
      "    Nodes    |    Current Node    |     Objective Bounds      |     Work\n",
      " Expl Unexpl |  Obj  Depth IntInf | Incumbent    BestBd   Gap | It/Node Time\n",
      "\n",
      "     0     0    0.00003    0   21    0.01360    0.00003   100%     -    0s\n",
      "H    0     0                       0.0001258    0.00003  77.1%     -    0s\n",
      "H    0     0                       0.0000723    0.00003  60.2%     -    0s\n",
      "     0     0    0.00003    0   21    0.00007    0.00003  60.2%     -    0s\n",
      "     0     0    0.00003    0   21    0.00007    0.00003  57.5%     -    0s\n",
      "     0     0    0.00003    0   21    0.00007    0.00003  57.5%     -    0s\n",
      "     0     2    0.00003    0   21    0.00007    0.00003  57.3%     -    0s\n",
      "H  255    93                       0.0000707    0.00003  51.6%  98.2    1s\n",
      "H 1268   550                       0.0000676    0.00004  45.4%  63.7    2s\n",
      "H 1557   621                       0.0000675    0.00004  43.4%  63.2    3s\n",
      "  1879   760    0.00004   15   23    0.00007    0.00004  43.3%  59.8    5s\n",
      "  4703  1478    0.00007   44   24    0.00007    0.00004  37.3%  56.3   10s\n",
      "  9249  2515     cutoff   50         0.00007    0.00005  27.0%  59.2   15s\n",
      " 14880  2783     cutoff   40         0.00007    0.00006  16.5%  59.2   20s\n",
      "\n",
      "Explored 19400 nodes (1307047 simplex iterations) in 24.05 seconds (23.12 work units)\n",
      "Thread count was 8 (of 8 available processors)\n",
      "\n",
      "Solution count 6: 6.75347e-05 6.75857e-05 7.06604e-05 ... 0.0136011\n",
      "\n",
      "Optimal solution found (tolerance 1.00e-01)\n",
      "Best objective 6.753470760728e-05, best bound 6.091001301082e-05, gap 9.8093%\n"
     ]
    }
   ],
   "source": [
    "from gurobipy import *\n",
    "\n",
    "tickind_all = []\n",
    "for t in tickers:\n",
    "    tickind_all.append(tickers.index(t))\n",
    "tickind_all\n",
    "\n",
    "# Initialize the model\n",
    "mod3b = Model()\n",
    "\n",
    "# Decision variables\n",
    "w3b = mod3b.addVars(390)\n",
    "s3b = mod3b.addVars(390, vtype=GRB.BINARY, name=\"x\")\n",
    "\n",
    "# Objective function: Minimize total under-allocation percentage\n",
    "mod3b.setObjective(sum(w3b[i] * w3b[j] * C[i][j] for i in tickind_all for j in tickind_all), GRB.MINIMIZE)\n",
    "\n",
    "# Constraints\n",
    "\n",
    "mod3b.addConstr(sum(s3b[i] for i in tickind_all) <=4)\n",
    "\n",
    "mod3b.addConstr(sum(w3b[i] * avg_return[i] for i in tickind_all) >= 0.005)\n",
    "\n",
    "mod3b.addConstr(sum(w3b[i] for i in tickind_all) == 1)\n",
    "\n",
    "for i in tickind_all:\n",
    "    mod3b.addConstr(w3b[i] <= s3b[i])\n",
    "\n",
    "for i in tickind_all:\n",
    "    mod3b.addConstr(w3b[i] >= 0)\n",
    "\n",
    "    \n",
    "# Terminate after reaching a gap of 10%\n",
    "mod3b.Params.MIPGap = 0.1\n",
    "\n",
    "# Solve the model\n",
    "mod3b.optimize()"
   ]
  },
  {
   "cell_type": "code",
   "execution_count": 85,
   "metadata": {},
   "outputs": [
    {
     "name": "stdout",
     "output_type": "stream",
     "text": [
      "Solver time of terminated model: 3.11930513381958\n",
      "Solver time of original model: 29.408276081085205\n"
     ]
    }
   ],
   "source": [
    "print('Solver time of terminated model:', mod3a.Runtime)\n",
    "print('Solver time of original model:', mod3.Runtime)"
   ]
  },
  {
   "cell_type": "markdown",
   "metadata": {},
   "source": [
    "The solver time is shorter than the solution time obtained in question 1c."
   ]
  }
 ],
 "metadata": {
  "kernelspec": {
   "display_name": "Python 3 (ipykernel)",
   "language": "python",
   "name": "python3"
  },
  "language_info": {
   "codemirror_mode": {
    "name": "ipython",
    "version": 3
   },
   "file_extension": ".py",
   "mimetype": "text/x-python",
   "name": "python",
   "nbconvert_exporter": "python",
   "pygments_lexer": "ipython3",
   "version": "3.9.12"
  }
 },
 "nbformat": 4,
 "nbformat_minor": 2
}
