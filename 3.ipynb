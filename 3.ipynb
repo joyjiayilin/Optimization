{
 "cells": [
  {
   "cell_type": "markdown",
   "metadata": {},
   "source": [
    "# MGMTMSA 403 Assignment 3: Predicting Airbnb Prices\n"
   ]
  },
  {
   "cell_type": "markdown",
   "metadata": {},
   "source": [
    "* Jiacheng (George) Zheng UID: 005856460\n",
    "* Jiaxin (Frank) Zheng UID: 806310846\n",
    "* Joy Lin UID: 806304435"
   ]
  },
  {
   "cell_type": "markdown",
   "metadata": {},
   "source": [
    "## Import libraries"
   ]
  },
  {
   "cell_type": "code",
   "execution_count": 5,
   "metadata": {},
   "outputs": [],
   "source": [
    "# Import gurobi and numpy\n",
    "from gurobipy import *\n",
    "import numpy as np\n",
    "from numpy import genfromtxt\n",
    "import csv\n",
    "import pandas as pd"
   ]
  },
  {
   "cell_type": "markdown",
   "metadata": {},
   "source": [
    "## Import data"
   ]
  },
  {
   "cell_type": "code",
   "execution_count": 6,
   "metadata": {},
   "outputs": [],
   "source": [
    "train = pd.read_csv('AirbnbTrain.csv')\n",
    "test = pd.read_csv('AirbnbTest.csv')\n",
    "X_train = train.drop('price',axis=1).to_numpy()\n",
    "y_train = train['price']\n",
    "X_test = test.drop('price',axis=1).to_numpy()\n",
    "y_test = test['price']"
   ]
  },
  {
   "cell_type": "code",
   "execution_count": 7,
   "metadata": {},
   "outputs": [],
   "source": [
    "n_train = X_train.shape[0]\n",
    "d_train = X_train.shape[1]\n",
    "\n",
    "n_test = X_test.shape[0]\n",
    "d_test = X_test.shape[1]"
   ]
  },
  {
   "cell_type": "markdown",
   "metadata": {},
   "source": [
    "# Model 1"
   ]
  },
  {
   "cell_type": "markdown",
   "metadata": {},
   "source": [
    "* **Parameters**\n",
    "\n",
    "\\begin{align*}\n",
    "i &: \\text{row number } \\\\\n",
    "j &: \\text{column number } \\\\\n",
    "x_{ij} &: \\text{element at row i and column j of n d-dimensional vector of features} \\\\\n",
    "y_i &: \\text{price corresponding to } x_{ij}\n",
    "\\end{align*}\n",
    "\n",
    "* **Decision Variables**\n",
    "\n",
    "\\begin{align*}\n",
    "\\beta_j &: \\text{real-valued dependent variable corresponding to j } \\\\\n",
    "z_i &: |y_i - \\sum_{j=1}^{d} \\beta_j x_{ij}| \\\\\n",
    "ypred_i&: \\text{prediction of y }\n",
    "\\end{align*}\n",
    "\n",
    "* **Objective Function**\n",
    "\n",
    "\\begin{equation*}\n",
    "\\min_{\\beta_1, ..., \\beta_d} \\frac{1}{n} \\sum_{i=1}^{n} |y_i - \\sum_{j=1}^{d} \\beta_j x_{ij}|\n",
    "\\end{equation*}\n",
    "\n",
    "* **Constraints**\n",
    "\n",
    "\\begin{equation*}\n",
    "z_i \\geq y_i - ypred_i, \\quad i = 1,...,n\n",
    "\\end{equation*}\n",
    "\n",
    "\\begin{equation*}\n",
    "z_i \\geq ypred_i - y_i, \\quad i = 1,...,n\n",
    "\\end{equation*}\n",
    "\n",
    "> At most 3 variables (k = 3)\n",
    "\n",
    "\\begin{equation*}\n",
    "\\sum_{j=1}^{d} 1 (\\beta_j \\neq 0) \\leq 3\n",
    "\\end{equation*}"
   ]
  },
  {
   "cell_type": "code",
   "execution_count": 56,
   "metadata": {},
   "outputs": [
    {
     "name": "stdout",
     "output_type": "stream",
     "text": [
      "Gurobi Optimizer version 11.0.0 build v11.0.0rc2 (mac64[x86] - Darwin 23.2.0 23C71)\n",
      "\n",
      "CPU model: Intel(R) Core(TM) i5-1038NG7 CPU @ 2.00GHz\n",
      "Thread count: 4 physical cores, 8 logical processors, using up to 8 threads\n",
      "\n",
      "Optimize a model with 5100 rows, 3412 columns and 27486 nonzeros\n",
      "Model fingerprint: 0x07c6caa8\n",
      "Coefficient statistics:\n",
      "  Matrix range     [5e-01, 5e+02]\n",
      "  Objective range  [6e-04, 6e-04]\n",
      "  Bounds range     [0e+00, 0e+00]\n",
      "  RHS range        [1e+01, 2e+03]\n",
      "Presolve removed 2 rows and 1 columns\n",
      "Presolve time: 0.02s\n",
      "Presolved: 5098 rows, 3411 columns, 27482 nonzeros\n",
      "\n",
      "Iteration    Objective       Primal Inf.    Dual Inf.      Time\n",
      "       0    0.0000000e+00   1.849080e+05   0.000000e+00      0s\n",
      "    1499    3.6426247e+01   0.000000e+00   0.000000e+00      0s\n",
      "\n",
      "Use crossover to convert LP symmetric solution to basic solution...\n",
      "Crossover log...\n",
      "\n",
      "       0 DPushes remaining with DInf 0.0000000e+00                 0s\n",
      "\n",
      "       5 PPushes remaining with PInf 0.0000000e+00                 0s\n",
      "       0 PPushes remaining with PInf 0.0000000e+00                 0s\n",
      "\n",
      "  Push phase complete: Pinf 0.0000000e+00, Dinf 2.5959269e-14      0s\n",
      "\n",
      "Iteration    Objective       Primal Inf.    Dual Inf.      Time\n",
      "    1585    3.6426247e+01   0.000000e+00   0.000000e+00      0s\n",
      "\n",
      "Solved in 1585 iterations and 0.40 seconds (0.44 work units)\n",
      "Optimal objective  3.642624740e+01\n"
     ]
    }
   ],
   "source": [
    "mod1 = Model()\n",
    "\n",
    "b = mod1.addVars(d_train)\n",
    "z = mod1.addVars(n_train)\n",
    "y_pred = mod1.addVars(n_train)\n",
    "\n",
    "# Objective function\n",
    "mod1.setObjective(1/n_train * sum(z[i]for i in range(n_train)), GRB.MINIMIZE)\n",
    "\n",
    "# Constraints\n",
    "for i in range(n_train):\n",
    "    mod1.addConstr(y_pred[i] == sum(b[j] * X_train[i][j] for j in range(d_train)))\n",
    "    \n",
    "    mod1.addConstr(z[i] >= y_train[i] - y_pred[i])\n",
    "    \n",
    "    mod1.addConstr(z[i] >= y_pred[i] - y_train[i])\n",
    "\n",
    "# Solve the model\n",
    "mod1.optimize()"
   ]
  },
  {
   "cell_type": "code",
   "execution_count": 58,
   "metadata": {},
   "outputs": [
    {
     "name": "stdout",
     "output_type": "stream",
     "text": [
      "The prediction error of my model on the test set is $ 35.60453503037783 /night.\n"
     ]
    }
   ],
   "source": [
    "if mod1.status == GRB.OPTIMAL:\n",
    "    residuals = []\n",
    "    for i in range(n_test):\n",
    "        y_pred = sum(b[j].x * X_test[i][j] for j in range(d_test))\n",
    "        residuals.append(abs(y_test[i] - y_pred))\n",
    "\n",
    "print('The prediction error of my model on the test set is $',\n",
    "      sum(residuals) / n_test,\n",
    "     '/night.')"
   ]
  },
  {
   "cell_type": "markdown",
   "metadata": {},
   "source": [
    "# Model 2"
   ]
  },
  {
   "cell_type": "markdown",
   "metadata": {},
   "source": [
    "* **Parameters**\n",
    "\n",
    "\\begin{align*}\n",
    "i &: \\text{row number } \\\\\n",
    "j &: \\text{column number } \\\\\n",
    "x_{ij} &: \\text{element at row i and column j of n d-dimensional vector of features} \\\\\n",
    "y_i &: \\text{price corresponding to } x_{ij}\n",
    "\\end{align*}\n",
    "\n",
    "* **Decision Variables**\n",
    "\n",
    "\\begin{align*}\n",
    "\\beta_j &: \\text{real-valued dependent variable corresponding to j } \\\\\n",
    "z_i &: |y_i - \\sum_{j=1}^{d} \\beta_j x_{ij}| \\\\\n",
    "ypred_i&: \\text{prediction of y } \\\\\n",
    "c_j &: \\text{= 1 if jth variable is used, 0 otherwise }\n",
    "\\end{align*}\n",
    "\n",
    "* **Objective Function**\n",
    "\n",
    "\\begin{equation*}\n",
    "\\min_{\\beta_1, ..., \\beta_d} \\frac{1}{n} \\sum_{i=1}^{n} |y_i - \\sum_{j=1}^{d} \\beta_j x_{ij}|\n",
    "\\end{equation*}\n",
    "\n",
    "* **Constraints**\n",
    "\n",
    "\\begin{equation*}\n",
    "ypred_i = \\sum_{j=1}^{d} \\beta_{i} x_{ij}, \\quad i = 1,...,n\n",
    "\\end{equation*}\n",
    "\n",
    "\\begin{equation*}\n",
    "z_i \\geq y_i - ypred_i, \\quad i = 1,...,n\n",
    "\\end{equation*}\n",
    "\n",
    "\\begin{equation*}\n",
    "z_i \\geq ypred_i - y_i, \\quad i = 1,...,n\n",
    "\\end{equation*}\n",
    "\n",
    "> At most 3 variables (k = 3)\n",
    "\n",
    "\\begin{equation*}\n",
    "\\sum_{j=1}^{d} 1 (\\beta_j \\neq 0) \\leq 3\n",
    "\\end{equation*}\n",
    "\n",
    "> Variables to have non-zero coefficients\n",
    "\n",
    "\\begin{equation*}\n",
    "\\beta_j \\leq 100 * c_j, \\quad j = 1,...,d\n",
    "\\end{equation*}"
   ]
  },
  {
   "cell_type": "markdown",
   "metadata": {},
   "source": [
    "## a)"
   ]
  },
  {
   "cell_type": "code",
   "execution_count": 11,
   "metadata": {},
   "outputs": [
    {
     "name": "stdout",
     "output_type": "stream",
     "text": [
      "Gurobi Optimizer version 11.0.0 build v11.0.0rc2 (mac64[x86] - Darwin 23.2.0 23C71)\n",
      "\n",
      "CPU model: Intel(R) Core(TM) i5-1038NG7 CPU @ 2.00GHz\n",
      "Thread count: 4 physical cores, 8 logical processors, using up to 8 threads\n",
      "\n",
      "Optimize a model with 6812 rows, 3424 columns and 47910 nonzeros\n",
      "Model fingerprint: 0x7a655b87\n",
      "Variable types: 3412 continuous, 12 integer (12 binary)\n",
      "Coefficient statistics:\n",
      "  Matrix range     [5e-01, 5e+02]\n",
      "  Objective range  [6e-04, 6e-04]\n",
      "  Bounds range     [1e+00, 1e+00]\n",
      "  RHS range        [3e+00, 2e+03]\n",
      "Found heuristic solution: objective 144.9682353\n",
      "Presolve removed 2943 rows and 829 columns\n",
      "Presolve time: 0.06s\n",
      "Presolved: 3869 rows, 2595 columns, 20795 nonzeros\n",
      "Variable types: 2583 continuous, 12 integer (12 binary)\n",
      "\n",
      "Root relaxation: objective 3.644035e+01, 1512 iterations, 0.29 seconds (0.40 work units)\n",
      "\n",
      "    Nodes    |    Current Node    |     Objective Bounds      |     Work\n",
      " Expl Unexpl |  Obj  Depth IntInf | Incumbent    BestBd   Gap | It/Node Time\n",
      "\n",
      "     0     0   36.44035    0    7  144.96824   36.44035  74.9%     -    0s\n",
      "H    0     0                      55.2795580   36.44035  34.1%     -    0s\n",
      "     0     0   36.44772    0   10   55.27956   36.44772  34.1%     -    0s\n",
      "     0     0   36.45703    0   10   55.27956   36.45703  34.0%     -    0s\n",
      "     0     0   36.46264    0    9   55.27956   36.46264  34.0%     -    0s\n",
      "     0     0   36.47929    0    9   55.27956   36.47929  34.0%     -    0s\n",
      "     0     0   36.48510    0   10   55.27956   36.48510  34.0%     -    1s\n",
      "H    0     0                      45.9770588   36.48510  20.6%     -    1s\n",
      "     0     0   36.48510    0   10   45.97706   36.48510  20.6%     -    1s\n",
      "H    0     0                      38.3388235   36.48510  4.84%     -    1s\n",
      "     0     0   36.88153    0   11   38.33882   36.88153  3.80%     -    1s\n",
      "     0     0   36.88412    0   10   38.33882   36.88412  3.79%     -    1s\n",
      "     0     0   37.19683    0   12   38.33882   37.19683  2.98%     -    1s\n",
      "     0     0   37.19683    0   12   38.33882   37.19683  2.98%     -    1s\n",
      "     0     0   37.26229    0    9   38.33882   37.26229  2.81%     -    1s\n",
      "     0     0   37.26229    0   10   38.33882   37.26229  2.81%     -    1s\n",
      "     0     0   37.38054    0   10   38.33882   37.38054  2.50%     -    1s\n",
      "     0     0   37.51084    0   11   38.33882   37.51084  2.16%     -    1s\n",
      "     0     0   38.02525    0   11   38.33882   38.02525  0.82%     -    1s\n",
      "     0     2   38.02525    0   11   38.33882   38.02525  0.82%     -    1s\n",
      "\n",
      "Cutting planes:\n",
      "  Implied bound: 1\n",
      "  MIR: 56\n",
      "  Flow cover: 201\n",
      "\n",
      "Explored 33 nodes (4933 simplex iterations) in 3.09 seconds (2.55 work units)\n",
      "Thread count was 8 (of 8 available processors)\n",
      "\n",
      "Solution count 4: 38.3388 45.9771 55.2796 144.968 \n",
      "\n",
      "Optimal solution found (tolerance 1.00e-04)\n",
      "Best objective 3.833882352941e+01, best bound 3.833882352941e+01, gap 0.0000%\n"
     ]
    }
   ],
   "source": [
    "mod2 = Model()\n",
    "\n",
    "b = mod2.addVars(d_train)\n",
    "z = mod2.addVars(n_train)\n",
    "c = mod2.addVars(d_train, vtype=GRB.BINARY)\n",
    "y_pred = mod2.addVars(n_train)\n",
    "\n",
    "# Objective function\n",
    "mod2.setObjective(1/n_train * sum(z[i]for i in range(n_train)), GRB.MINIMIZE)\n",
    "\n",
    "# Constraints\n",
    "for i in range(n_train):\n",
    "    mod2.addConstr(sum(c[j] for j in range(d_train)) <= 3)\n",
    "    \n",
    "    mod2.addConstr(y_pred[i] == sum(b[j] * X_train[i][j] for j in range(d_train)))\n",
    "    \n",
    "    mod2.addConstr(z[i] >= y_train[i] - y_pred[i])\n",
    "    \n",
    "    mod2.addConstr(z[i] >= y_pred[i] - y_train[i])\n",
    "\n",
    "for j in range(d_train):\n",
    "    mod2.addConstr(b[j] <= 100 * c[j])\n",
    "    \n",
    "# Solve the model\n",
    "mod2.optimize()"
   ]
  },
  {
   "cell_type": "code",
   "execution_count": 12,
   "metadata": {},
   "outputs": [
    {
     "name": "stdout",
     "output_type": "stream",
     "text": [
      "Name\t\tCoefficient\n",
      "Entire home \t\t 2\n",
      "accommodates \t\t 3\n",
      "bedrooms \t\t 5\n"
     ]
    }
   ],
   "source": [
    "if mod2.status == GRB.OPTIMAL:\n",
    "    print(\"Name\\t\\tCoefficient\")\n",
    "    for j in range(d_train):\n",
    "        if b[j].x != 0:\n",
    "            print(train.columns[j], '\\t\\t', j)"
   ]
  },
  {
   "cell_type": "markdown",
   "metadata": {},
   "source": [
    "## b)"
   ]
  },
  {
   "cell_type": "code",
   "execution_count": 68,
   "metadata": {},
   "outputs": [
    {
     "name": "stdout",
     "output_type": "stream",
     "text": [
      "The new prediction error is $ 37.73676680972818 /night.\n"
     ]
    }
   ],
   "source": [
    "if mod2.status == GRB.OPTIMAL:\n",
    "    residuals = []\n",
    "    for i in range(n_test):\n",
    "        y_pred = sum(b[j].x * X_test[i][j] for j in range(d_test))\n",
    "        residuals.append(abs(y_test[i] - y_pred))\n",
    "\n",
    "print('The new prediction error is $',\n",
    "      sum(residuals) / n_test,\n",
    "     '/night.')"
   ]
  },
  {
   "cell_type": "markdown",
   "metadata": {},
   "source": [
    "# Model 3"
   ]
  },
  {
   "cell_type": "markdown",
   "metadata": {},
   "source": [
    "* **Parameters**\n",
    "\n",
    "\\begin{align*}\n",
    "i &: \\text{row number } \\\\\n",
    "j &: \\text{column number } \\\\\n",
    "x_{ij} &: \\text{element at row i and column j of n d-dimensional vector of features} \\\\\n",
    "y_i &: \\text{price corresponding to } x_{ij}\n",
    "\\end{align*}\n",
    "\n",
    "* **Decision Variables**\n",
    "\n",
    "\\begin{align*}\n",
    "\\beta_j &: \\text{real-valued dependent variable corresponding to j } \\\\\n",
    "z_i &: |y_i - \\sum_{j=1}^{d} \\beta_j x_{ij}| \\\\\n",
    "ypred_i&: \\text{prediction of y } \\\\\n",
    "c_j &: \\text{= 1 if jth variable is used, 0 otherwise }\n",
    "\\end{align*}\n",
    "\n",
    "* **Objective Function**\n",
    "\n",
    "\\begin{equation*}\n",
    "\\min_{\\beta_1, ..., \\beta_d} \\frac{1}{n} \\sum_{i=1}^{n} |y_i - \\sum_{j=1}^{d} \\beta_j x_{ij}|\n",
    "\\end{equation*}\n",
    "\n",
    "* **Constraints**\n",
    "\n",
    "\\begin{equation*}\n",
    "ypred_i = \\sum_{j=1}^{d} \\beta_{i} x_{ij}, \\quad i = 1,...,n\n",
    "\\end{equation*}\n",
    "\n",
    "\\begin{equation*}\n",
    "z_i \\geq y_i - ypred_i, \\quad i = 1,...,n\n",
    "\\end{equation*}\n",
    "\n",
    "\\begin{equation*}\n",
    "z_i \\geq ypred_i - y_i, \\quad i = 1,...,n\n",
    "\\end{equation*}\n",
    "\n",
    "> At most 3 variables (k = 3)\n",
    "\n",
    "\\begin{equation*}\n",
    "\\sum_{j=1}^{d} 1 (\\beta_j \\neq 0) \\leq 3\n",
    "\\end{equation*}\n",
    "\n",
    "> Variables to have non-zero coefficients\n",
    "\n",
    "\\begin{equation*}\n",
    "\\beta_j \\leq 100 * c_j, \\quad j = 1,...,d\n",
    "\\end{equation*}\n",
    "\n",
    "> One of the variables is the number of beds\n",
    "\n",
    "\\begin{equation*}\n",
    "c_6 \\geq 1\n",
    "\\end{equation*}"
   ]
  },
  {
   "cell_type": "markdown",
   "metadata": {},
   "source": [
    "## a)"
   ]
  },
  {
   "cell_type": "code",
   "execution_count": 8,
   "metadata": {},
   "outputs": [
    {
     "name": "stdout",
     "output_type": "stream",
     "text": [
      "Set parameter Username\n",
      "Academic license - for non-commercial use only - expires 2025-01-16\n",
      "Gurobi Optimizer version 11.0.0 build v11.0.0rc2 (mac64[x86] - Darwin 23.2.0 23C71)\n",
      "\n",
      "CPU model: Intel(R) Core(TM) i5-1038NG7 CPU @ 2.00GHz\n",
      "Thread count: 4 physical cores, 8 logical processors, using up to 8 threads\n",
      "\n",
      "Optimize a model with 6813 rows, 3424 columns and 47911 nonzeros\n",
      "Model fingerprint: 0xa7dfb2d7\n",
      "Variable types: 3412 continuous, 12 integer (12 binary)\n",
      "Coefficient statistics:\n",
      "  Matrix range     [5e-01, 5e+02]\n",
      "  Objective range  [6e-04, 6e-04]\n",
      "  Bounds range     [1e+00, 1e+00]\n",
      "  RHS range        [1e+00, 2e+03]\n",
      "Found heuristic solution: objective 144.9682353\n",
      "Presolve removed 2945 rows and 830 columns\n",
      "Presolve time: 0.07s\n",
      "Presolved: 3868 rows, 2594 columns, 20792 nonzeros\n",
      "Variable types: 2583 continuous, 11 integer (11 binary)\n",
      "\n",
      "Root relaxation: objective 3.644433e+01, 1711 iterations, 0.35 seconds (0.48 work units)\n",
      "\n",
      "    Nodes    |    Current Node    |     Objective Bounds      |     Work\n",
      " Expl Unexpl |  Obj  Depth IntInf | Incumbent    BestBd   Gap | It/Node Time\n",
      "\n",
      "     0     0   36.44433    0    9  144.96824   36.44433  74.9%     -    0s\n",
      "H    0     0                      48.6558384   36.44433  25.1%     -    0s\n",
      "     0     0   36.45065    0   10   48.65584   36.45065  25.1%     -    0s\n",
      "     0     0   36.49911    0    9   48.65584   36.49911  25.0%     -    1s\n",
      "     0     0   36.50021    0    9   48.65584   36.50021  25.0%     -    1s\n",
      "H    0     0                      41.4745588   36.50021  12.0%     -    1s\n",
      "     0     0   37.25622    0    9   41.47456   37.25622  10.2%     -    1s\n",
      "     0     0   37.25622    0    9   41.47456   37.25622  10.2%     -    1s\n",
      "     0     0   37.26238    0    8   41.47456   37.26238  10.2%     -    1s\n",
      "     0     0   37.26238    0    8   41.47456   37.26238  10.2%     -    1s\n",
      "H    0     0                      40.0730147   37.26238  7.01%     -    1s\n",
      "     0     0   37.26440    0    8   40.07301   37.26440  7.01%     -    1s\n",
      "     0     0   37.26440    0    8   40.07301   37.26440  7.01%     -    1s\n",
      "     0     0   37.26547    0    8   40.07301   37.26547  7.01%     -    1s\n",
      "     0     0   38.03434    0    8   40.07301   38.03434  5.09%     -    1s\n",
      "     0     0   38.04747    0    8   40.07301   38.04747  5.05%     -    1s\n",
      "     0     0   38.06319    0    8   40.07301   38.06319  5.02%     -    1s\n",
      "     0     0   38.77342    0    8   40.07301   38.77342  3.24%     -    1s\n",
      "     0     2   38.77556    0    8   40.07301   38.77556  3.24%     -    1s\n",
      "\n",
      "Cutting planes:\n",
      "  Gomory: 1\n",
      "  Implied bound: 1\n",
      "  MIR: 66\n",
      "  Flow cover: 147\n",
      "\n",
      "Explored 20 nodes (5471 simplex iterations) in 2.14 seconds (2.08 work units)\n",
      "Thread count was 8 (of 8 available processors)\n",
      "\n",
      "Solution count 4: 40.073 41.4746 48.6558 144.968 \n",
      "\n",
      "Optimal solution found (tolerance 1.00e-04)\n",
      "Best objective 4.007301470588e+01, best bound 4.007301470588e+01, gap 0.0000%\n"
     ]
    }
   ],
   "source": [
    "mod3 = Model()\n",
    "\n",
    "b = mod3.addVars(d_train)\n",
    "z = mod3.addVars(n_train)\n",
    "c = mod3.addVars(d_train, vtype=GRB.BINARY)\n",
    "y_pred = mod3.addVars(n_train)\n",
    "\n",
    "# Objective function\n",
    "mod3.setObjective(1/n_train * sum(z[i]for i in range(n_train)), GRB.MINIMIZE)\n",
    "\n",
    "# Constraints\n",
    "\n",
    "for i in range(n_train):\n",
    "    mod3.addConstr(sum(c[j] for j in range(d_train)) <= 3)\n",
    "\n",
    "    mod3.addConstr(y_pred[i] == sum(b[j] * X_train[i][j] for j in range(d_train)))\n",
    "    \n",
    "    mod3.addConstr(z[i] >= y_train[i] - y_pred[i])\n",
    "    \n",
    "    mod3.addConstr(z[i] >= y_pred[i] - y_train[i])\n",
    "\n",
    "for j in range(d_train):\n",
    "    mod3.addConstr(b[j] <= 100 * c[j])\n",
    "\n",
    "mod3.addConstr(c[6] >= 1)\n",
    "    \n",
    "# Solve the model\n",
    "mod3.optimize()"
   ]
  },
  {
   "cell_type": "code",
   "execution_count": 9,
   "metadata": {},
   "outputs": [
    {
     "name": "stdout",
     "output_type": "stream",
     "text": [
      "Name\t\tCoefficient\n",
      "Entire home \t\t 2\n",
      "bedrooms \t\t 5\n",
      "beds \t\t 6\n"
     ]
    }
   ],
   "source": [
    "if mod3.status == GRB.OPTIMAL:\n",
    "    print(\"Name\\t\\tCoefficient\")\n",
    "    for j in range(d_train):\n",
    "        if b[j].x != 0:\n",
    "            print(train.columns[j], '\\t\\t', j)"
   ]
  },
  {
   "cell_type": "markdown",
   "metadata": {},
   "source": [
    "## b)"
   ]
  },
  {
   "cell_type": "markdown",
   "metadata": {},
   "source": [
    "Variable accommodates was in Model 2 but is no longer in Model 3. \n",
    "This variable has been dropped possibly because of its multicolinearity with the feature beds."
   ]
  },
  {
   "cell_type": "markdown",
   "metadata": {},
   "source": [
    "## c)"
   ]
  },
  {
   "cell_type": "code",
   "execution_count": 10,
   "metadata": {},
   "outputs": [
    {
     "name": "stdout",
     "output_type": "stream",
     "text": [
      "The new prediction error is $ 38.59960658082976 /night.\n"
     ]
    }
   ],
   "source": [
    "if mod3.status == GRB.OPTIMAL:\n",
    "    residuals = []\n",
    "    for i in range(n_test):\n",
    "        y_pred = sum(b[j].x * X_test[i][j] for j in range(d_test))\n",
    "        residuals.append(abs(y_test[i] - y_pred))\n",
    "\n",
    "print('The new prediction error is $',\n",
    "      sum(residuals) / n_test,\n",
    "     '/night.')"
   ]
  }
 ],
 "metadata": {
  "kernelspec": {
   "display_name": "Python 3 (ipykernel)",
   "language": "python",
   "name": "python3"
  },
  "language_info": {
   "codemirror_mode": {
    "name": "ipython",
    "version": 3
   },
   "file_extension": ".py",
   "mimetype": "text/x-python",
   "name": "python",
   "nbconvert_exporter": "python",
   "pygments_lexer": "ipython3",
   "version": "3.9.12"
  }
 },
 "nbformat": 4,
 "nbformat_minor": 2
}
